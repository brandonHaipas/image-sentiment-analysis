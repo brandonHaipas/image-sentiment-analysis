{
 "cells": [
  {
   "cell_type": "markdown",
   "metadata": {},
   "source": [
    "# Data exploration\n",
    "\n",
    "In this notebook we take some metrics from our data in order to better understand it and develop models that fit the problem."
   ]
  },
  {
   "cell_type": "code",
   "execution_count": 1,
   "metadata": {},
   "outputs": [
    {
     "data": {
      "text/html": [
       "<div>\n",
       "<style scoped>\n",
       "    .dataframe tbody tr th:only-of-type {\n",
       "        vertical-align: middle;\n",
       "    }\n",
       "\n",
       "    .dataframe tbody tr th {\n",
       "        vertical-align: top;\n",
       "    }\n",
       "\n",
       "    .dataframe thead th {\n",
       "        text-align: right;\n",
       "    }\n",
       "</style>\n",
       "<table border=\"1\" class=\"dataframe\">\n",
       "  <thead>\n",
       "    <tr style=\"text-align: right;\">\n",
       "      <th></th>\n",
       "      <th>red_0</th>\n",
       "      <th>green_0</th>\n",
       "      <th>blue_0</th>\n",
       "      <th>red_1</th>\n",
       "      <th>green_1</th>\n",
       "      <th>blue_1</th>\n",
       "      <th>red_2</th>\n",
       "      <th>green_2</th>\n",
       "      <th>blue_2</th>\n",
       "      <th>red_3</th>\n",
       "      <th>green_3</th>\n",
       "      <th>blue_3</th>\n",
       "      <th>red_4</th>\n",
       "      <th>green_4</th>\n",
       "      <th>blue_4</th>\n",
       "      <th>red_5</th>\n",
       "      <th>green_5</th>\n",
       "      <th>blue_5</th>\n",
       "      <th>label</th>\n",
       "    </tr>\n",
       "  </thead>\n",
       "  <tbody>\n",
       "    <tr>\n",
       "      <th>0</th>\n",
       "      <td>127</td>\n",
       "      <td>81</td>\n",
       "      <td>68</td>\n",
       "      <td>48</td>\n",
       "      <td>32</td>\n",
       "      <td>30</td>\n",
       "      <td>226</td>\n",
       "      <td>207</td>\n",
       "      <td>195</td>\n",
       "      <td>216</td>\n",
       "      <td>140</td>\n",
       "      <td>109</td>\n",
       "      <td>175</td>\n",
       "      <td>140</td>\n",
       "      <td>128</td>\n",
       "      <td>175</td>\n",
       "      <td>162</td>\n",
       "      <td>170</td>\n",
       "      <td>Positive</td>\n",
       "    </tr>\n",
       "    <tr>\n",
       "      <th>1</th>\n",
       "      <td>58</td>\n",
       "      <td>70</td>\n",
       "      <td>73</td>\n",
       "      <td>71</td>\n",
       "      <td>113</td>\n",
       "      <td>168</td>\n",
       "      <td>127</td>\n",
       "      <td>108</td>\n",
       "      <td>76</td>\n",
       "      <td>176</td>\n",
       "      <td>172</td>\n",
       "      <td>167</td>\n",
       "      <td>136</td>\n",
       "      <td>134</td>\n",
       "      <td>118</td>\n",
       "      <td>155</td>\n",
       "      <td>172</td>\n",
       "      <td>193</td>\n",
       "      <td>Positive</td>\n",
       "    </tr>\n",
       "    <tr>\n",
       "      <th>2</th>\n",
       "      <td>188</td>\n",
       "      <td>217</td>\n",
       "      <td>246</td>\n",
       "      <td>32</td>\n",
       "      <td>26</td>\n",
       "      <td>24</td>\n",
       "      <td>130</td>\n",
       "      <td>159</td>\n",
       "      <td>206</td>\n",
       "      <td>102</td>\n",
       "      <td>119</td>\n",
       "      <td>157</td>\n",
       "      <td>96</td>\n",
       "      <td>88</td>\n",
       "      <td>95</td>\n",
       "      <td>80</td>\n",
       "      <td>89</td>\n",
       "      <td>106</td>\n",
       "      <td>Negative</td>\n",
       "    </tr>\n",
       "    <tr>\n",
       "      <th>3</th>\n",
       "      <td>204</td>\n",
       "      <td>192</td>\n",
       "      <td>177</td>\n",
       "      <td>29</td>\n",
       "      <td>40</td>\n",
       "      <td>52</td>\n",
       "      <td>155</td>\n",
       "      <td>115</td>\n",
       "      <td>68</td>\n",
       "      <td>111</td>\n",
       "      <td>74</td>\n",
       "      <td>32</td>\n",
       "      <td>117</td>\n",
       "      <td>135</td>\n",
       "      <td>145</td>\n",
       "      <td>161</td>\n",
       "      <td>128</td>\n",
       "      <td>100</td>\n",
       "      <td>Positive</td>\n",
       "    </tr>\n",
       "    <tr>\n",
       "      <th>4</th>\n",
       "      <td>30</td>\n",
       "      <td>24</td>\n",
       "      <td>27</td>\n",
       "      <td>172</td>\n",
       "      <td>136</td>\n",
       "      <td>124</td>\n",
       "      <td>114</td>\n",
       "      <td>78</td>\n",
       "      <td>77</td>\n",
       "      <td>133</td>\n",
       "      <td>145</td>\n",
       "      <td>150</td>\n",
       "      <td>81</td>\n",
       "      <td>86</td>\n",
       "      <td>99</td>\n",
       "      <td>119</td>\n",
       "      <td>128</td>\n",
       "      <td>142</td>\n",
       "      <td>Highly negative</td>\n",
       "    </tr>\n",
       "  </tbody>\n",
       "</table>\n",
       "</div>"
      ],
      "text/plain": [
       "   red_0  green_0  blue_0  red_1  green_1  blue_1  red_2  green_2  blue_2  \\\n",
       "0    127       81      68     48       32      30    226      207     195   \n",
       "1     58       70      73     71      113     168    127      108      76   \n",
       "2    188      217     246     32       26      24    130      159     206   \n",
       "3    204      192     177     29       40      52    155      115      68   \n",
       "4     30       24      27    172      136     124    114       78      77   \n",
       "\n",
       "   red_3  green_3  blue_3  red_4  green_4  blue_4  red_5  green_5  blue_5  \\\n",
       "0    216      140     109    175      140     128    175      162     170   \n",
       "1    176      172     167    136      134     118    155      172     193   \n",
       "2    102      119     157     96       88      95     80       89     106   \n",
       "3    111       74      32    117      135     145    161      128     100   \n",
       "4    133      145     150     81       86      99    119      128     142   \n",
       "\n",
       "             label  \n",
       "0         Positive  \n",
       "1         Positive  \n",
       "2         Negative  \n",
       "3         Positive  \n",
       "4  Highly negative  "
      ]
     },
     "execution_count": 1,
     "metadata": {},
     "output_type": "execute_result"
    }
   ],
   "source": [
    "import pandas as pd\n",
    "\n",
    "color_data = pd.read_csv(\"color_dataset.csv\")\n",
    "\n",
    "color_data.head()"
   ]
  },
  {
   "cell_type": "code",
   "execution_count": 2,
   "metadata": {},
   "outputs": [
    {
     "data": {
      "text/plain": [
       "(12350, 19)"
      ]
     },
     "execution_count": 2,
     "metadata": {},
     "output_type": "execute_result"
    }
   ],
   "source": [
    "color_data.shape"
   ]
  },
  {
   "cell_type": "code",
   "execution_count": 3,
   "metadata": {},
   "outputs": [
    {
     "data": {
      "text/plain": [
       "label\n",
       "Positive           7779\n",
       "Neutral            2021\n",
       "Negative           1911\n",
       "Highly positive     389\n",
       "Highly negative     250\n",
       "Name: count, dtype: int64"
      ]
     },
     "execution_count": 3,
     "metadata": {},
     "output_type": "execute_result"
    }
   ],
   "source": [
    "color_data[\"label\"].value_counts()"
   ]
  },
  {
   "cell_type": "markdown",
   "metadata": {},
   "source": [
    "In this case, there's an implicit order between labels (they go from ```Highly negative``` to ```Highly positive```), so we can use numerical values ranging from 0 to the number of classes, for this particular dataset that would be from 0 to 5 excluding 5. This is going to be helpful for training neural nets."
   ]
  },
  {
   "cell_type": "code",
   "execution_count": 4,
   "metadata": {},
   "outputs": [],
   "source": [
    "label2number = {\"Highly negative\":0.0, \"Negative\":1.0, \"Neutral\":2.0, \"Positive\":3.0, \"Highly positive\": 4.0}\n",
    "number2label = {0.0: \"Highly negative\", 1.0:\"Negative\", 2.0: \"Neutral\", 3.0:\"Positive\", 4.0:\"Highly positive\"}"
   ]
  },
  {
   "cell_type": "code",
   "execution_count": 8,
   "metadata": {},
   "outputs": [
    {
     "name": "stdout",
     "output_type": "stream",
     "text": [
      "Metricas para Random Forest \n",
      "                  precision    recall  f1-score   support\n",
      "\n",
      "Highly negative       0.00      0.00      0.00        69\n",
      "Highly positive       0.00      0.00      0.00       125\n",
      "       Negative       0.50      0.03      0.05       567\n",
      "        Neutral       0.00      0.00      0.00       609\n",
      "       Positive       0.63      1.00      0.77      2335\n",
      "\n",
      "       accuracy                           0.63      3705\n",
      "      macro avg       0.23      0.20      0.16      3705\n",
      "   weighted avg       0.48      0.63      0.50      3705\n",
      "\n"
     ]
    },
    {
     "name": "stderr",
     "output_type": "stream",
     "text": [
      "c:\\Users\\usuario\\Desktop\\Personal projects\\ML-Projects\\Image sentiment analisis\\image-sentiment-analysis\\venv\\Lib\\site-packages\\sklearn\\metrics\\_classification.py:1509: UndefinedMetricWarning: Precision is ill-defined and being set to 0.0 in labels with no predicted samples. Use `zero_division` parameter to control this behavior.\n",
      "  _warn_prf(average, modifier, f\"{metric.capitalize()} is\", len(result))\n",
      "c:\\Users\\usuario\\Desktop\\Personal projects\\ML-Projects\\Image sentiment analisis\\image-sentiment-analysis\\venv\\Lib\\site-packages\\sklearn\\metrics\\_classification.py:1509: UndefinedMetricWarning: Precision is ill-defined and being set to 0.0 in labels with no predicted samples. Use `zero_division` parameter to control this behavior.\n",
      "  _warn_prf(average, modifier, f\"{metric.capitalize()} is\", len(result))\n",
      "c:\\Users\\usuario\\Desktop\\Personal projects\\ML-Projects\\Image sentiment analisis\\image-sentiment-analysis\\venv\\Lib\\site-packages\\sklearn\\metrics\\_classification.py:1509: UndefinedMetricWarning: Precision is ill-defined and being set to 0.0 in labels with no predicted samples. Use `zero_division` parameter to control this behavior.\n",
      "  _warn_prf(average, modifier, f\"{metric.capitalize()} is\", len(result))\n"
     ]
    }
   ],
   "source": [
    "from sklearn.ensemble import RandomForestClassifier\n",
    "from sklearn.model_selection import train_test_split\n",
    "from sklearn.metrics import classification_report\n",
    "\n",
    "clf_rf = RandomForestClassifier(max_depth = 10,random_state = 0)\n",
    "\n",
    "X = color_data.loc[:, color_data.columns != 'label']\n",
    "y = color_data[\"label\"]\n",
    "\n",
    "X_train, X_test, y_train, y_test = train_test_split(X, y, test_size=0.3)\n",
    "clf_rf.fit(X_train, y_train)\n",
    "y_pred_rf = clf_rf.predict(X_test)\n",
    "print(\"Metricas para Random Forest \\n\", classification_report(y_test, y_pred_rf))"
   ]
  },
  {
   "cell_type": "markdown",
   "metadata": {},
   "source": [
    "In the code under this paragraph the first decision tree from the random forest is plotted, this way you can interpret the decisions made by the classifier until the second depth level of this tree."
   ]
  },
  {
   "cell_type": "code",
   "execution_count": 14,
   "metadata": {},
   "outputs": [
    {
     "name": "stdout",
     "output_type": "stream",
     "text": [
      "El primer arbol de decision dentro del random forest tiene 539 nodos\n"
     ]
    },
    {
     "data": {
      "image/png": "[encoded data removed]",
      "text/plain": [
       "<Figure size 640x480 with 1 Axes>"
      ]
     },
     "metadata": {},
     "output_type": "display_data"
    }
   ],
   "source": [
    "from sklearn import tree\n",
    "nodes_first_count = clf_rf.estimators_[0].tree_.node_count\n",
    "tree.plot_tree(clf_rf.estimators_[0], max_depth = 2, fontsize = 8, feature_names = list(X.columns.values))\n",
    "print(f\"El primer arbol de decision dentro del random forest tiene {nodes_first_count} nodos\")"
   ]
  },
  {
   "cell_type": "markdown",
   "metadata": {},
   "source": [
    "Now the model can be tested with images outside of the model, for that use the function ``img_to_colors`` in ``utils.py``."
   ]
  },
  {
   "cell_type": "code",
   "execution_count": 14,
   "metadata": {},
   "outputs": [
    {
     "data": {
      "image/jpeg": "[encoded data removed]",
      "text/plain": [
       "<IPython.core.display.Image object>"
      ]
     },
     "metadata": {},
     "output_type": "display_data"
    },
    {
     "name": "stdout",
     "output_type": "stream",
     "text": [
      "['Positive']\n"
     ]
    },
    {
     "name": "stderr",
     "output_type": "stream",
     "text": [
      "c:\\Users\\usuario\\Desktop\\Personal projects\\ML-Projects\\Image sentiment analisis\\image-sentiment-analysis\\venv\\Lib\\site-packages\\sklearn\\base.py:493: UserWarning: X does not have valid feature names, but RandomForestClassifier was fitted with feature names\n",
      "  warnings.warn(\n"
     ]
    }
   ],
   "source": [
    "from utils import img_to_colors\n",
    "from IPython.display import Image, display\n",
    "import pathlib\n",
    "#change the name of the image as needed\n",
    "img = \"dummy_images\\\\name_of_image.jpg\"\n",
    "actual_folder = f\"{str(pathlib.Path().absolute())}\\\\\"\n",
    "pal = img_to_colors(f\"{actual_folder}{img}\", 6)\n",
    "display(Image(filename= f\"{actual_folder}{img}\"))\n",
    "print(clf_rf.predict([pal]))"
   ]
  },
  {
   "cell_type": "markdown",
   "metadata": {},
   "source": [
    "This result was expected, since there aren't many elements under the ```Highly positive``` and ```Highly negative``` labels. After this there are some alternatives to try: \n",
    "\n",
    "- Reduce the number of classes to ```Positive```, ```Negative``` and ```Neutral```.\n",
    "- Try with other classifiers first.\n",
    "- Do some data augmentation on the images first, then classify again.\n",
    "\n",
    "Or drop the hypothesis that the colors can classify emotions accurately altogether."
   ]
  },
  {
   "cell_type": "markdown",
   "metadata": {},
   "source": [
    "First, let's try to use other classifiers in order to explore other alternatives before dropping the idea that the color palette is enough."
   ]
  }
 ],
 "metadata": {
  "kernelspec": {
   "display_name": "venv",
   "language": "python",
   "name": "python3"
  },
  "language_info": {
   "codemirror_mode": {
    "name": "ipython",
    "version": 3
   },
   "file_extension": ".py",
   "mimetype": "text/x-python",
   "name": "python",
   "nbconvert_exporter": "python",
   "pygments_lexer": "ipython3",
   "version": "3.11.0"
  }
 },
 "nbformat": 4,
 "nbformat_minor": 2
}
